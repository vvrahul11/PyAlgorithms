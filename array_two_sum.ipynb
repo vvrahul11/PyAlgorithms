{
 "cells": [
  {
   "cell_type": "code",
   "execution_count": 4,
   "metadata": {},
   "outputs": [],
   "source": [
    "# Given an array of integers, return indices of the two numbers\n",
    "# such that they add up to a specific target.\n",
    "# You may assume that each input would have exactly one solution\n",
    "\n",
    "# Example:\n",
    "#     Given nums = [2, 7, 11, 15], target = 26,\n",
    "#     Because nums[2] + nums[3] = 11 + 15 = 26,\n",
    "#     return [2, 3]."
   ]
  },
  {
   "cell_type": "code",
   "execution_count": 7,
   "metadata": {},
   "outputs": [
    {
     "name": "stdout",
     "output_type": "stream",
     "text": [
      "2 3\n"
     ]
    }
   ],
   "source": [
    "\"\"\"\n",
    "Given an array of integers, return indices of the two numbers\n",
    "such that they add up to a specific target.\n",
    "You may assume that each input would have exactly one solution,\n",
    "and you may not use the same element twice.\n",
    "Example:\n",
    "    Given nums = [2, 7, 11, 15], target = 26,\n",
    "    Because nums[0] + nums[1] = 11 + 15 = 26,\n",
    "    return [2, 3].\n",
    "\"\"\"\n",
    "\n",
    "def findTargetValueIndices(myarray, target):\n",
    "    for i, no in enumerate(myarray):\n",
    "        for j in range(i + 1, len(myarray)):\n",
    "            if (myarray[i]+ myarray[j]) == target:\n",
    "                print(i, j)\n",
    "                return(i, j)\n",
    "            \n",
    "if __name__ == \"__main__\":\n",
    "    k = findTargetValueIndices([2, 7, 11, 15], 26)"
   ]
  }
 ],
 "metadata": {
  "kernelspec": {
   "display_name": "Python 3",
   "language": "python",
   "name": "python3"
  },
  "language_info": {
   "codemirror_mode": {
    "name": "ipython",
    "version": 3
   },
   "file_extension": ".py",
   "mimetype": "text/x-python",
   "name": "python",
   "nbconvert_exporter": "python",
   "pygments_lexer": "ipython3",
   "version": "3.6.6"
  }
 },
 "nbformat": 4,
 "nbformat_minor": 2
}
